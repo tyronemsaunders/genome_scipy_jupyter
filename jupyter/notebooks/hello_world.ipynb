{
 "cells": [
  {
   "cell_type": "markdown",
   "metadata": {},
   "source": [
    "# Jupyter Notebook Tutorial: Introduction, Setup, and Walkthrough\n",
    "Walking through a YouTube video introducing Jupyter Notebooks.\n",
    "\n",
    "* YouTube Account: [Corey Schafer](https://www.youtube.com/user/schafer5)\n",
    "* YouTube Video: https://www.youtube.com/watch?v=HW29067qVWk"
   ]
  },
  {
   "cell_type": "code",
   "execution_count": 2,
   "metadata": {},
   "outputs": [
    {
     "name": "stdout",
     "output_type": "stream",
     "text": [
      "Hello World\n"
     ]
    }
   ],
   "source": [
    "print('Hello World')"
   ]
  },
  {
   "cell_type": "code",
   "execution_count": 4,
   "metadata": {},
   "outputs": [
    {
     "data": {
      "text/plain": [
       "'Hello World'"
      ]
     },
     "execution_count": 4,
     "metadata": {},
     "output_type": "execute_result"
    }
   ],
   "source": [
    "'Hello World'"
   ]
  },
  {
   "cell_type": "markdown",
   "metadata": {},
   "source": [
    "## Special Character \"!\"\n",
    "The \"!\" character interprets commands as bash commands"
   ]
  },
  {
   "cell_type": "code",
   "execution_count": 6,
   "metadata": {},
   "outputs": [
    {
     "name": "stdout",
     "output_type": "stream",
     "text": [
      "Package                           Version    \r\n",
      "--------------------------------- -----------\r\n",
      "alabaster                         0.7.10     \r\n",
      "appnope                           0.1.0      \r\n",
      "asn1crypto                        0.23.0     \r\n",
      "attrs                             17.3.0     \r\n",
      "Automat                           0.6.0      \r\n",
      "Babel                             2.5.1      \r\n",
      "beautifulsoup4                    4.6.0      \r\n",
      "bleach                            2.1.1      \r\n",
      "bokeh                             0.12.10    \r\n",
      "boto                              2.48.0     \r\n",
      "bz2file                           0.98       \r\n",
      "certifi                           2017.11.5  \r\n",
      "cffi                              1.11.2     \r\n",
      "chardet                           3.0.4      \r\n",
      "constantly                        15.1.0     \r\n",
      "cryptography                      2.1.3      \r\n",
      "cssselect                         1.0.1      \r\n",
      "cycler                            0.10.0     \r\n",
      "decorator                         4.1.2      \r\n",
      "docutils                          0.14       \r\n",
      "entrypoints                       0.2.3      \r\n",
      "enum34                            1.1.6      \r\n",
      "flake8                            2.6.2      \r\n",
      "gensim                            3.1.0      \r\n",
      "h5py                              2.7.1      \r\n",
      "html5lib                          0.999999999\r\n",
      "hyperlink                         17.3.1     \r\n",
      "idna                              2.6        \r\n",
      "imagesize                         0.7.1      \r\n",
      "incremental                       17.5.0     \r\n",
      "ipykernel                         4.6.1      \r\n",
      "ipython                           6.2.1      \r\n",
      "ipython-genutils                  0.2.0      \r\n",
      "ipywidgets                        7.0.4      \r\n",
      "jedi                              0.11.0     \r\n",
      "Jinja2                            2.10       \r\n",
      "jsonschema                        2.6.0      \r\n",
      "jupyter                           1.0.0      \r\n",
      "jupyter-client                    5.1.0      \r\n",
      "jupyter-console                   5.2.0      \r\n",
      "jupyter-contrib-core              0.3.3      \r\n",
      "jupyter-contrib-nbextensions      0.3.3      \r\n",
      "jupyter-core                      4.4.0      \r\n",
      "jupyter-highlight-selected-word   0.1.0      \r\n",
      "jupyter-latex-envs                1.3.8.4    \r\n",
      "jupyter-nbextensions-configurator 0.2.8      \r\n",
      "Keras                             2.0.9      \r\n",
      "lxml                              4.1.1      \r\n",
      "Markdown                          2.6.9      \r\n",
      "MarkupSafe                        1.0        \r\n",
      "matplotlib                        2.1.0      \r\n",
      "mccabe                            0.5.3      \r\n",
      "mistune                           0.8.1      \r\n",
      "mpmath                            1.0.0      \r\n",
      "nbconvert                         5.3.1      \r\n",
      "nbformat                          4.4.0      \r\n",
      "networkx                          2.0        \r\n",
      "nltk                              3.2.5      \r\n",
      "nose                              1.3.7      \r\n",
      "nose-parameterized                0.6.0      \r\n",
      "notebook                          5.2.1      \r\n",
      "numpy                             1.13.3     \r\n",
      "olefile                           0.44       \r\n",
      "pandas                            0.21.0     \r\n",
      "pandocfilters                     1.4.2      \r\n",
      "parsel                            1.2.0      \r\n",
      "parso                             0.1.0      \r\n",
      "patsy                             0.4.1      \r\n",
      "pexpect                           4.3.0      \r\n",
      "pickleshare                       0.7.4      \r\n",
      "Pillow                            4.3.0      \r\n",
      "pip                               9.0.1      \r\n",
      "prompt-toolkit                    1.0.15     \r\n",
      "protobuf                          3.4.0      \r\n",
      "ptyprocess                        0.5.2      \r\n",
      "pyasn1                            0.3.7      \r\n",
      "pyasn1-modules                    0.1.5      \r\n",
      "pycodestyle                       2.0.0      \r\n",
      "pycparser                         2.18       \r\n",
      "PyDispatcher                      2.0.5      \r\n",
      "pyflakes                          1.2.3      \r\n",
      "Pygments                          2.2.0      \r\n",
      "pyOpenSSL                         17.3.0     \r\n",
      "pyparsing                         2.2.0      \r\n",
      "python-dateutil                   2.6.1      \r\n",
      "pytz                              2017.3     \r\n",
      "PyWavelets                        0.5.2      \r\n",
      "PyYAML                            3.12       \r\n",
      "pyzmq                             16.0.3     \r\n",
      "qtconsole                         4.3.1      \r\n",
      "queuelib                          1.4.2      \r\n",
      "requests                          2.18.4     \r\n",
      "scikit-image                      0.13.1     \r\n",
      "scikit-learn                      0.19.1     \r\n",
      "scipy                             1.0.0      \r\n",
      "Scrapy                            1.4.0      \r\n",
      "service-identity                  17.0.0     \r\n",
      "setuptools                        36.7.0     \r\n",
      "simplegeneric                     0.8.1      \r\n",
      "six                               1.11.0     \r\n",
      "smart-open                        1.5.3      \r\n",
      "snowballstemmer                   1.2.1      \r\n",
      "Sphinx                            1.6.5      \r\n",
      "sphinxcontrib-websupport          1.0.1      \r\n",
      "statsmodels                       0.8.0      \r\n",
      "sympy                             1.1.1      \r\n",
      "tensorflow                        1.4.0      \r\n",
      "tensorflow-tensorboard            0.4.0rc2   \r\n",
      "terminado                         0.6        \r\n",
      "testpath                          0.3.1      \r\n",
      "Theano                            0.9.0      \r\n",
      "tornado                           4.5.2      \r\n",
      "traitlets                         4.3.2      \r\n",
      "Twisted                           17.9.0     \r\n",
      "urllib3                           1.22       \r\n",
      "w3lib                             1.18.0     \r\n",
      "wcwidth                           0.1.7      \r\n",
      "webencodings                      0.5.1      \r\n",
      "Werkzeug                          0.12.2     \r\n",
      "wheel                             0.30.0     \r\n",
      "widgetsnbextension                3.0.7      \r\n",
      "zope.interface                    4.4.3      \r\n"
     ]
    }
   ],
   "source": [
    "!pip list --format=columns"
   ]
  },
  {
   "cell_type": "markdown",
   "metadata": {},
   "source": [
    "## Magics"
   ]
  },
  {
   "cell_type": "markdown",
   "metadata": {},
   "source": [
    "### Line Magics \"%\"\n",
    "The command's arguments will all come from the same line.\n",
    "\n",
    "`lsmagic` command can be used to list all of the other available commands."
   ]
  },
  {
   "cell_type": "code",
   "execution_count": 7,
   "metadata": {},
   "outputs": [
    {
     "data": {
      "application/json": {
       "cell": {
        "!": "OSMagics",
        "HTML": "Other",
        "SVG": "Other",
        "bash": "Other",
        "capture": "ExecutionMagics",
        "debug": "ExecutionMagics",
        "file": "Other",
        "html": "DisplayMagics",
        "javascript": "DisplayMagics",
        "js": "DisplayMagics",
        "latex": "DisplayMagics",
        "markdown": "DisplayMagics",
        "perl": "Other",
        "prun": "ExecutionMagics",
        "pypy": "Other",
        "python": "Other",
        "python2": "Other",
        "python3": "Other",
        "ruby": "Other",
        "script": "ScriptMagics",
        "sh": "Other",
        "svg": "DisplayMagics",
        "sx": "OSMagics",
        "system": "OSMagics",
        "time": "ExecutionMagics",
        "timeit": "ExecutionMagics",
        "writefile": "OSMagics"
       },
       "line": {
        "alias": "OSMagics",
        "alias_magic": "BasicMagics",
        "autocall": "AutoMagics",
        "automagic": "AutoMagics",
        "autosave": "KernelMagics",
        "bookmark": "OSMagics",
        "cat": "Other",
        "cd": "OSMagics",
        "clear": "KernelMagics",
        "colors": "BasicMagics",
        "config": "ConfigMagics",
        "connect_info": "KernelMagics",
        "cp": "Other",
        "debug": "ExecutionMagics",
        "dhist": "OSMagics",
        "dirs": "OSMagics",
        "doctest_mode": "BasicMagics",
        "ed": "Other",
        "edit": "KernelMagics",
        "env": "OSMagics",
        "gui": "BasicMagics",
        "hist": "Other",
        "history": "HistoryMagics",
        "killbgscripts": "ScriptMagics",
        "ldir": "Other",
        "less": "KernelMagics",
        "lf": "Other",
        "lk": "Other",
        "ll": "Other",
        "load": "CodeMagics",
        "load_ext": "ExtensionMagics",
        "loadpy": "CodeMagics",
        "logoff": "LoggingMagics",
        "logon": "LoggingMagics",
        "logstart": "LoggingMagics",
        "logstate": "LoggingMagics",
        "logstop": "LoggingMagics",
        "ls": "Other",
        "lsmagic": "BasicMagics",
        "lx": "Other",
        "macro": "ExecutionMagics",
        "magic": "BasicMagics",
        "man": "KernelMagics",
        "matplotlib": "PylabMagics",
        "mkdir": "Other",
        "more": "KernelMagics",
        "mv": "Other",
        "notebook": "BasicMagics",
        "page": "BasicMagics",
        "pastebin": "CodeMagics",
        "pdb": "ExecutionMagics",
        "pdef": "NamespaceMagics",
        "pdoc": "NamespaceMagics",
        "pfile": "NamespaceMagics",
        "pinfo": "NamespaceMagics",
        "pinfo2": "NamespaceMagics",
        "pip": "BasicMagics",
        "popd": "OSMagics",
        "pprint": "BasicMagics",
        "precision": "BasicMagics",
        "profile": "BasicMagics",
        "prun": "ExecutionMagics",
        "psearch": "NamespaceMagics",
        "psource": "NamespaceMagics",
        "pushd": "OSMagics",
        "pwd": "OSMagics",
        "pycat": "OSMagics",
        "pylab": "PylabMagics",
        "qtconsole": "KernelMagics",
        "quickref": "BasicMagics",
        "recall": "HistoryMagics",
        "rehashx": "OSMagics",
        "reload_ext": "ExtensionMagics",
        "rep": "Other",
        "rerun": "HistoryMagics",
        "reset": "NamespaceMagics",
        "reset_selective": "NamespaceMagics",
        "rm": "Other",
        "rmdir": "Other",
        "run": "ExecutionMagics",
        "save": "CodeMagics",
        "sc": "OSMagics",
        "set_env": "OSMagics",
        "store": "StoreMagics",
        "sx": "OSMagics",
        "system": "OSMagics",
        "tb": "ExecutionMagics",
        "time": "ExecutionMagics",
        "timeit": "ExecutionMagics",
        "unalias": "OSMagics",
        "unload_ext": "ExtensionMagics",
        "who": "NamespaceMagics",
        "who_ls": "NamespaceMagics",
        "whos": "NamespaceMagics",
        "xdel": "NamespaceMagics",
        "xmode": "BasicMagics"
       }
      },
      "text/plain": [
       "Available line magics:\n",
       "%alias  %alias_magic  %autocall  %automagic  %autosave  %bookmark  %cat  %cd  %clear  %colors  %config  %connect_info  %cp  %debug  %dhist  %dirs  %doctest_mode  %ed  %edit  %env  %gui  %hist  %history  %killbgscripts  %ldir  %less  %lf  %lk  %ll  %load  %load_ext  %loadpy  %logoff  %logon  %logstart  %logstate  %logstop  %ls  %lsmagic  %lx  %macro  %magic  %man  %matplotlib  %mkdir  %more  %mv  %notebook  %page  %pastebin  %pdb  %pdef  %pdoc  %pfile  %pinfo  %pinfo2  %popd  %pprint  %precision  %profile  %prun  %psearch  %psource  %pushd  %pwd  %pycat  %pylab  %qtconsole  %quickref  %recall  %rehashx  %reload_ext  %rep  %rerun  %reset  %reset_selective  %rm  %rmdir  %run  %save  %sc  %set_env  %store  %sx  %system  %tb  %time  %timeit  %unalias  %unload_ext  %who  %who_ls  %whos  %xdel  %xmode\n",
       "\n",
       "Available cell magics:\n",
       "%%!  %%HTML  %%SVG  %%bash  %%capture  %%debug  %%file  %%html  %%javascript  %%js  %%latex  %%markdown  %%perl  %%prun  %%pypy  %%python  %%python2  %%python3  %%ruby  %%script  %%sh  %%svg  %%sx  %%system  %%time  %%timeit  %%writefile\n",
       "\n",
       "Automagic is ON, % prefix IS NOT needed for line magics."
      ]
     },
     "execution_count": 7,
     "metadata": {},
     "output_type": "execute_result"
    }
   ],
   "source": [
    "%lsmagic"
   ]
  },
  {
   "cell_type": "code",
   "execution_count": 8,
   "metadata": {},
   "outputs": [
    {
     "data": {
      "text/plain": [
       "'/var/genome-scipy.dev/jupyter/jupyter/notebooks'"
      ]
     },
     "execution_count": 8,
     "metadata": {},
     "output_type": "execute_result"
    }
   ],
   "source": [
    "%pwd"
   ]
  },
  {
   "cell_type": "code",
   "execution_count": 9,
   "metadata": {
    "scrolled": true
   },
   "outputs": [
    {
     "name": "stdout",
     "output_type": "stream",
     "text": [
      "total 16\r\n",
      "drwxrwxr-x 1 vagrant www-data   136 Nov 12 00:44 \u001b[0m\u001b[01;34m.\u001b[0m/\r\n",
      "drwxrwxr-x 1 vagrant www-data   136 Nov 10 16:47 \u001b[01;34m..\u001b[0m/\r\n",
      "-rwxrwxr-x 1 vagrant www-data 15666 Nov 12 00:44 \u001b[01;32mhello_world.ipynb\u001b[0m*\r\n",
      "drwxrwxr-x 1 vagrant www-data   102 Nov 12 00:21 \u001b[01;34m.ipynb_checkpoints\u001b[0m/\r\n"
     ]
    }
   ],
   "source": [
    "%ls -la"
   ]
  },
  {
   "cell_type": "code",
   "execution_count": 10,
   "metadata": {},
   "outputs": [],
   "source": [
    "%matplotlib inline"
   ]
  },
  {
   "cell_type": "code",
   "execution_count": 11,
   "metadata": {},
   "outputs": [
    {
     "data": {
      "image/png": "[encoded data removed]",
      "text/plain": [
       "<matplotlib.figure.Figure at 0x7f0519e53f98>"
      ]
     },
     "metadata": {},
     "output_type": "display_data"
    }
   ],
   "source": [
    "\"\"\"\n",
    "Simple demo of a scatter plot\n",
    "\"\"\"\n",
    "import numpy as np\n",
    "import matplotlib.pyplot as plt\n",
    "\n",
    "N = 50\n",
    "x = np.random.rand(N)\n",
    "y = np.random.rand(N)\n",
    "colors = np.random.rand(N)\n",
    "area = np.pi * (15 * np.random.rand(N))**2\n",
    "\n",
    "plt.scatter(x, y, s=area, c=colors, alpha=0.5)\n",
    "plt.show()"
   ]
  },
  {
   "cell_type": "markdown",
   "metadata": {},
   "source": [
    "### Cell Magics \"%%\"\n",
    "The entire cell will be used as the command's arguments"
   ]
  },
  {
   "cell_type": "code",
   "execution_count": 15,
   "metadata": {},
   "outputs": [
    {
     "data": {
      "text/html": [
       "<iframe width=\"560\" height=\"315\" src=\"https://www.youtube.com/embed/HW29067qVWk?rel=0\" frameborder=\"0\" allowfullscreen></iframe>"
      ],
      "text/plain": [
       "<IPython.core.display.HTML object>"
      ]
     },
     "metadata": {},
     "output_type": "display_data"
    }
   ],
   "source": [
    "%%HTML\n",
    "<iframe width=\"560\" height=\"315\" src=\"https://www.youtube.com/embed/HW29067qVWk?rel=0\" frameborder=\"0\" allowfullscreen></iframe>"
   ]
  },
  {
   "cell_type": "code",
   "execution_count": 19,
   "metadata": {},
   "outputs": [
    {
     "name": "stdout",
     "output_type": "stream",
     "text": [
      "60.8 µs ± 2.66 µs per loop (mean ± std. dev. of 7 runs, 10000 loops each)\n"
     ]
    }
   ],
   "source": [
    "%%timeit\n",
    "[n*n for n in range(1000)]"
   ]
  },
  {
   "cell_type": "markdown",
   "metadata": {},
   "source": [
    "## Render Without Magic Commands\n",
    "Display a Pandas dataframe"
   ]
  },
  {
   "cell_type": "code",
   "execution_count": 23,
   "metadata": {},
   "outputs": [
    {
     "name": "stdout",
     "output_type": "stream",
     "text": [
      "          0         1         2         3         4\n",
      "0  0.224182  0.658468 -0.714864 -0.298020 -0.026709\n",
      "1 -1.020870 -0.966645  0.606344  1.449545  0.048244\n",
      "2 -0.395011  0.421679 -0.072675  0.117884  0.430664\n",
      "3 -0.076068  0.117033  0.757188 -0.836439  0.618963\n",
      "4 -1.561267  1.265835 -1.601864 -0.658209  0.425683\n",
      "5  0.222069 -0.265989  0.130302 -1.236944 -0.088185\n",
      "6  1.867397  0.882561  0.725480  0.700997  0.395847\n",
      "7  0.418431  0.535311  0.317353 -0.778564 -0.825304\n",
      "8  1.248265  0.082231  1.418385  0.784329  0.931152\n",
      "9 -1.625111 -0.085810  1.641536 -0.268823 -1.023453\n"
     ]
    }
   ],
   "source": [
    "import pandas as pd\n",
    "import numpy as np\n",
    "\n",
    "df = pd.DataFrame(np.random.randn(10, 5))\n",
    "print(df)"
   ]
  },
  {
   "cell_type": "code",
   "execution_count": null,
   "metadata": {},
   "outputs": [],
   "source": []
  }
 ],
 "metadata": {
  "kernelspec": {
   "display_name": "Python 3 (genome-scipy.dev.jupyter)",
   "language": "python",
   "name": "ipykernel-genome-scipy.dev.jupyter"
  },
  "language_info": {
   "codemirror_mode": {
    "name": "ipython",
    "version": 3
   },
   "file_extension": ".py",
   "mimetype": "text/x-python",
   "name": "python",
   "nbconvert_exporter": "python",
   "pygments_lexer": "ipython3",
   "version": "3.6.3"
  }
 },
 "nbformat": 4,
 "nbformat_minor": 2
}
